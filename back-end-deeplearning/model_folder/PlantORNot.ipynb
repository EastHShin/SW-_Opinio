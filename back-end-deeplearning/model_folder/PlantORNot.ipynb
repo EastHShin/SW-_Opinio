{
 "nbformat": 4,
 "nbformat_minor": 0,
 "metadata": {
  "accelerator": "GPU",
  "colab": {
   "name": "PlantORNot.ipynb",
   "provenance": [],
   "machine_shape": "hm",
   "authorship_tag": "ABX9TyP6E9ajvBfCeV9AOlufKI09"
  },
  "kernelspec": {
   "display_name": "Python 3",
   "name": "python3"
  },
  "language_info": {
   "name": "python"
  },
  "widgets": {
   "application/vnd.jupyter.widget-state+json": {
    "48ec52feb27344eebed00cabf24525cb": {
     "model_module": "@jupyter-widgets/controls",
     "model_name": "HBoxModel",
     "model_module_version": "1.5.0",
     "state": {
      "_view_name": "HBoxView",
      "_dom_classes": [],
      "_model_name": "HBoxModel",
      "_view_module": "@jupyter-widgets/controls",
      "_model_module_version": "1.5.0",
      "_view_count": null,
      "_view_module_version": "1.5.0",
      "box_style": "",
      "layout": "IPY_MODEL_0d856c544a514fd78abac88e552ca520",
      "_model_module": "@jupyter-widgets/controls",
      "children": [
       "IPY_MODEL_6ae25da0d6ce45faafa426102273d254",
       "IPY_MODEL_7a67274e73b84513b1c4c07682064a8f",
       "IPY_MODEL_48a8d1940abf4f34a760d10316f21dc4"
      ]
     }
    },
    "0d856c544a514fd78abac88e552ca520": {
     "model_module": "@jupyter-widgets/base",
     "model_name": "LayoutModel",
     "model_module_version": "1.2.0",
     "state": {
      "_view_name": "LayoutView",
      "grid_template_rows": null,
      "right": null,
      "justify_content": null,
      "_view_module": "@jupyter-widgets/base",
      "overflow": null,
      "_model_module_version": "1.2.0",
      "_view_count": null,
      "flex_flow": null,
      "width": null,
      "min_width": null,
      "border": null,
      "align_items": null,
      "bottom": null,
      "_model_module": "@jupyter-widgets/base",
      "top": null,
      "grid_column": null,
      "overflow_y": null,
      "overflow_x": null,
      "grid_auto_flow": null,
      "grid_area": null,
      "grid_template_columns": null,
      "flex": null,
      "_model_name": "LayoutModel",
      "justify_items": null,
      "grid_row": null,
      "max_height": null,
      "align_content": null,
      "visibility": null,
      "align_self": null,
      "height": null,
      "min_height": null,
      "padding": null,
      "grid_auto_rows": null,
      "grid_gap": null,
      "max_width": null,
      "order": null,
      "_view_module_version": "1.2.0",
      "grid_template_areas": null,
      "object_position": null,
      "object_fit": null,
      "grid_auto_columns": null,
      "margin": null,
      "display": null,
      "left": null
     }
    },
    "6ae25da0d6ce45faafa426102273d254": {
     "model_module": "@jupyter-widgets/controls",
     "model_name": "HTMLModel",
     "model_module_version": "1.5.0",
     "state": {
      "_view_name": "HTMLView",
      "style": "IPY_MODEL_6b7aef89e16e4c70a75399e816ef39dd",
      "_dom_classes": [],
      "description": "",
      "_model_name": "HTMLModel",
      "placeholder": "​",
      "_view_module": "@jupyter-widgets/controls",
      "_model_module_version": "1.5.0",
      "value": "100%",
      "_view_count": null,
      "_view_module_version": "1.5.0",
      "description_tooltip": null,
      "_model_module": "@jupyter-widgets/controls",
      "layout": "IPY_MODEL_30e91969e6fd4cc8a7e1917f498a1048"
     }
    },
    "7a67274e73b84513b1c4c07682064a8f": {
     "model_module": "@jupyter-widgets/controls",
     "model_name": "FloatProgressModel",
     "model_module_version": "1.5.0",
     "state": {
      "_view_name": "ProgressView",
      "style": "IPY_MODEL_8c842aaa801745b0b0513db5bd9426d0",
      "_dom_classes": [],
      "description": "",
      "_model_name": "FloatProgressModel",
      "bar_style": "success",
      "max": 46830571,
      "_view_module": "@jupyter-widgets/controls",
      "_model_module_version": "1.5.0",
      "value": 46830571,
      "_view_count": null,
      "_view_module_version": "1.5.0",
      "orientation": "horizontal",
      "min": 0,
      "description_tooltip": null,
      "_model_module": "@jupyter-widgets/controls",
      "layout": "IPY_MODEL_975df57fd50b453d909e26b0c5a93e4c"
     }
    },
    "48a8d1940abf4f34a760d10316f21dc4": {
     "model_module": "@jupyter-widgets/controls",
     "model_name": "HTMLModel",
     "model_module_version": "1.5.0",
     "state": {
      "_view_name": "HTMLView",
      "style": "IPY_MODEL_6b31bfd15e85429fa049f1c2ad943044",
      "_dom_classes": [],
      "description": "",
      "_model_name": "HTMLModel",
      "placeholder": "​",
      "_view_module": "@jupyter-widgets/controls",
      "_model_module_version": "1.5.0",
      "value": " 44.7M/44.7M [00:00&lt;00:00, 88.7MB/s]",
      "_view_count": null,
      "_view_module_version": "1.5.0",
      "description_tooltip": null,
      "_model_module": "@jupyter-widgets/controls",
      "layout": "IPY_MODEL_20631d71f76e488b91437addb45c4767"
     }
    },
    "6b7aef89e16e4c70a75399e816ef39dd": {
     "model_module": "@jupyter-widgets/controls",
     "model_name": "DescriptionStyleModel",
     "model_module_version": "1.5.0",
     "state": {
      "_view_name": "StyleView",
      "_model_name": "DescriptionStyleModel",
      "description_width": "",
      "_view_module": "@jupyter-widgets/base",
      "_model_module_version": "1.5.0",
      "_view_count": null,
      "_view_module_version": "1.2.0",
      "_model_module": "@jupyter-widgets/controls"
     }
    },
    "30e91969e6fd4cc8a7e1917f498a1048": {
     "model_module": "@jupyter-widgets/base",
     "model_name": "LayoutModel",
     "model_module_version": "1.2.0",
     "state": {
      "_view_name": "LayoutView",
      "grid_template_rows": null,
      "right": null,
      "justify_content": null,
      "_view_module": "@jupyter-widgets/base",
      "overflow": null,
      "_model_module_version": "1.2.0",
      "_view_count": null,
      "flex_flow": null,
      "width": null,
      "min_width": null,
      "border": null,
      "align_items": null,
      "bottom": null,
      "_model_module": "@jupyter-widgets/base",
      "top": null,
      "grid_column": null,
      "overflow_y": null,
      "overflow_x": null,
      "grid_auto_flow": null,
      "grid_area": null,
      "grid_template_columns": null,
      "flex": null,
      "_model_name": "LayoutModel",
      "justify_items": null,
      "grid_row": null,
      "max_height": null,
      "align_content": null,
      "visibility": null,
      "align_self": null,
      "height": null,
      "min_height": null,
      "padding": null,
      "grid_auto_rows": null,
      "grid_gap": null,
      "max_width": null,
      "order": null,
      "_view_module_version": "1.2.0",
      "grid_template_areas": null,
      "object_position": null,
      "object_fit": null,
      "grid_auto_columns": null,
      "margin": null,
      "display": null,
      "left": null
     }
    },
    "8c842aaa801745b0b0513db5bd9426d0": {
     "model_module": "@jupyter-widgets/controls",
     "model_name": "ProgressStyleModel",
     "model_module_version": "1.5.0",
     "state": {
      "_view_name": "StyleView",
      "_model_name": "ProgressStyleModel",
      "description_width": "",
      "_view_module": "@jupyter-widgets/base",
      "_model_module_version": "1.5.0",
      "_view_count": null,
      "_view_module_version": "1.2.0",
      "bar_color": null,
      "_model_module": "@jupyter-widgets/controls"
     }
    },
    "975df57fd50b453d909e26b0c5a93e4c": {
     "model_module": "@jupyter-widgets/base",
     "model_name": "LayoutModel",
     "model_module_version": "1.2.0",
     "state": {
      "_view_name": "LayoutView",
      "grid_template_rows": null,
      "right": null,
      "justify_content": null,
      "_view_module": "@jupyter-widgets/base",
      "overflow": null,
      "_model_module_version": "1.2.0",
      "_view_count": null,
      "flex_flow": null,
      "width": null,
      "min_width": null,
      "border": null,
      "align_items": null,
      "bottom": null,
      "_model_module": "@jupyter-widgets/base",
      "top": null,
      "grid_column": null,
      "overflow_y": null,
      "overflow_x": null,
      "grid_auto_flow": null,
      "grid_area": null,
      "grid_template_columns": null,
      "flex": null,
      "_model_name": "LayoutModel",
      "justify_items": null,
      "grid_row": null,
      "max_height": null,
      "align_content": null,
      "visibility": null,
      "align_self": null,
      "height": null,
      "min_height": null,
      "padding": null,
      "grid_auto_rows": null,
      "grid_gap": null,
      "max_width": null,
      "order": null,
      "_view_module_version": "1.2.0",
      "grid_template_areas": null,
      "object_position": null,
      "object_fit": null,
      "grid_auto_columns": null,
      "margin": null,
      "display": null,
      "left": null
     }
    },
    "6b31bfd15e85429fa049f1c2ad943044": {
     "model_module": "@jupyter-widgets/controls",
     "model_name": "DescriptionStyleModel",
     "model_module_version": "1.5.0",
     "state": {
      "_view_name": "StyleView",
      "_model_name": "DescriptionStyleModel",
      "description_width": "",
      "_view_module": "@jupyter-widgets/base",
      "_model_module_version": "1.5.0",
      "_view_count": null,
      "_view_module_version": "1.2.0",
      "_model_module": "@jupyter-widgets/controls"
     }
    },
    "20631d71f76e488b91437addb45c4767": {
     "model_module": "@jupyter-widgets/base",
     "model_name": "LayoutModel",
     "model_module_version": "1.2.0",
     "state": {
      "_view_name": "LayoutView",
      "grid_template_rows": null,
      "right": null,
      "justify_content": null,
      "_view_module": "@jupyter-widgets/base",
      "overflow": null,
      "_model_module_version": "1.2.0",
      "_view_count": null,
      "flex_flow": null,
      "width": null,
      "min_width": null,
      "border": null,
      "align_items": null,
      "bottom": null,
      "_model_module": "@jupyter-widgets/base",
      "top": null,
      "grid_column": null,
      "overflow_y": null,
      "overflow_x": null,
      "grid_auto_flow": null,
      "grid_area": null,
      "grid_template_columns": null,
      "flex": null,
      "_model_name": "LayoutModel",
      "justify_items": null,
      "grid_row": null,
      "max_height": null,
      "align_content": null,
      "visibility": null,
      "align_self": null,
      "height": null,
      "min_height": null,
      "padding": null,
      "grid_auto_rows": null,
      "grid_gap": null,
      "max_width": null,
      "order": null,
      "_view_module_version": "1.2.0",
      "grid_template_areas": null,
      "object_position": null,
      "object_fit": null,
      "grid_auto_columns": null,
      "margin": null,
      "display": null,
      "left": null
     }
    }
   }
  }
 },
 "cells": [
  {
   "cell_type": "code",
   "metadata": {
    "colab": {
     "base_uri": "https://localhost:8080/"
    },
    "id": "qGhbmae_XWWP",
    "executionInfo": {
     "status": "ok",
     "timestamp": 1639134032587,
     "user_tz": -540,
     "elapsed": 5641,
     "user": {
      "displayName": "김영우",
      "photoUrl": "https://lh3.googleusercontent.com/a/default-user=s64",
      "userId": "08845972583606178261"
     }
    },
    "outputId": "b91593f0-827f-42ea-a6f9-0261d1efcbb2",
    "pycharm": {
     "is_executing": true
    }
   },
   "source": [
    "pip install fastai --upgrade "
   ],
   "execution_count": null,
   "outputs": []
  },
  {
   "cell_type": "code",
   "metadata": {
    "id": "Tzb_Br2wYdB9"
   },
   "source": [
    "from fastai.vision.all import *"
   ],
   "execution_count": null,
   "outputs": []
  },
  {
   "cell_type": "code",
   "metadata": {
    "colab": {
     "base_uri": "https://localhost:8080/"
    },
    "id": "YJy_EpvWYV-w",
    "executionInfo": {
     "status": "ok",
     "timestamp": 1639134128631,
     "user_tz": -540,
     "elapsed": 20015,
     "user": {
      "displayName": "김영우",
      "photoUrl": "https://lh3.googleusercontent.com/a/default-user=s64",
      "userId": "08845972583606178261"
     }
    },
    "outputId": "a5235b94-a063-481f-a18e-cea517173a9b",
    "pycharm": {
     "is_executing": true
    }
   },
   "source": [
    "from google.colab import drive, files\n",
    "drive.mount('/content/gdrive/')"
   ],
   "execution_count": null,
   "outputs": []
  },
  {
   "cell_type": "code",
   "metadata": {
    "colab": {
     "base_uri": "https://localhost:8080/"
    },
    "id": "Eyd-dit8YV8r",
    "executionInfo": {
     "elapsed": 87041,
     "status": "ok",
     "timestamp": 1639134223723,
     "user": {
      "displayName": "김영우",
      "photoUrl": "https://lh3.googleusercontent.com/a/default-user=s64",
      "userId": "08845972583606178261"
     },
     "user_tz": -540
    },
    "outputId": "018e1428-ff2f-42a8-99d7-b6664ad691a8",
    "pycharm": {
     "is_executing": true
    }
   },
   "source": [
    "! unzip /content/gdrive/MyDrive/Plant_Check.zip"
   ],
   "execution_count": null,
   "outputs": []
  },
  {
   "cell_type": "code",
   "metadata": {
    "id": "gYyrwSocYV6P"
   },
   "source": [
    "path = '/content/Plant_OR_NOT'"
   ],
   "execution_count": null,
   "outputs": []
  },
  {
   "cell_type": "code",
   "metadata": {
    "colab": {
     "base_uri": "https://localhost:8080/"
    },
    "id": "0PS5XrZAYqEO",
    "executionInfo": {
     "elapsed": 1151,
     "status": "ok",
     "timestamp": 1639134272617,
     "user": {
      "displayName": "김영우",
      "photoUrl": "https://lh3.googleusercontent.com/a/default-user=s64",
      "userId": "08845972583606178261"
     },
     "user_tz": -540
    },
    "outputId": "186e8715-c218-48db-db7d-89edcf6458c9"
   },
   "source": [
    "fns=get_image_files(path)\n",
    "fns"
   ],
   "execution_count": null,
   "outputs": [
    {
     "output_type": "execute_result",
     "data": {
      "text/plain": [
       "(#133556) [Path('/content/Plant_OR_NOT/NotPlant/tattoo_31_11067.jpg'),Path('/content/Plant_OR_NOT/NotPlant/misc_1_23386.jpg'),Path('/content/Plant_OR_NOT/NotPlant/sketch_16_20090.jpg'),Path('/content/Plant_OR_NOT/NotPlant/painting_3_16129.jpg'),Path('/content/Plant_OR_NOT/NotPlant/videogame_15_23875.jpg'),Path('/content/Plant_OR_NOT/NotPlant/misc_7_9366.jpg'),Path('/content/Plant_OR_NOT/NotPlant/cartoon_60_9508.jpg'),Path('/content/Plant_OR_NOT/NotPlant/sketch_8_17768.jpg'),Path('/content/Plant_OR_NOT/NotPlant/graffiti_0_24182.jpg'),Path('/content/Plant_OR_NOT/NotPlant/graffiti_4_29292.jpg')...]"
      ]
     },
     "metadata": {},
     "execution_count": 6
    }
   ]
  },
  {
   "cell_type": "code",
   "metadata": {
    "id": "VdONU2yvYqGc"
   },
   "source": [
    "leaf=DataBlock(blocks=(ImageBlock,CategoryBlock),\n",
    "               get_items=get_image_files,\n",
    "               splitter=RandomSplitter(valid_pct=(0.2),seed=42),\n",
    "               get_y=parent_label,item_tfms=Resize(256))"
   ],
   "execution_count": null,
   "outputs": []
  },
  {
   "cell_type": "code",
   "metadata": {
    "id": "A0kM2XrXYqIz"
   },
   "source": [
    "leaf = leaf.new(item_tfms=Resize(256), batch_tfms=aug_transforms(mult=1.0, do_flip=True, flip_vert=False, max_rotate=40.0, min_zoom=1.0, max_zoom=1.1, max_lighting=0.2, max_warp=0.2, p_affine=0.75, p_lighting=0.75, xtra_tfms=None, size=None, mode='bilinear', pad_mode='reflection', align_corners=True, batch=False, min_scale=1.0))"
   ],
   "execution_count": null,
   "outputs": []
  },
  {
   "cell_type": "code",
   "metadata": {
    "colab": {
     "base_uri": "https://localhost:8080/"
    },
    "id": "Hz3wM5NFYqLM",
    "executionInfo": {
     "elapsed": 22312,
     "status": "ok",
     "timestamp": 1639134299903,
     "user": {
      "displayName": "김영우",
      "photoUrl": "https://lh3.googleusercontent.com/a/default-user=s64",
      "userId": "08845972583606178261"
     },
     "user_tz": -540
    },
    "outputId": "5903974b-9dc3-466d-ffe4-3700dbf685fa",
    "pycharm": {
     "is_executing": true
    }
   },
   "source": [
    "dls=leaf.dataloaders(path,num_workers = 0)"
   ],
   "execution_count": null,
   "outputs": []
  },
  {
   "cell_type": "code",
   "metadata": {
    "colab": {
     "base_uri": "https://localhost:8080/",
     "height": 67,
     "referenced_widgets": [
      "48ec52feb27344eebed00cabf24525cb",
      "0d856c544a514fd78abac88e552ca520",
      "6ae25da0d6ce45faafa426102273d254",
      "7a67274e73b84513b1c4c07682064a8f",
      "48a8d1940abf4f34a760d10316f21dc4",
      "6b7aef89e16e4c70a75399e816ef39dd",
      "30e91969e6fd4cc8a7e1917f498a1048",
      "8c842aaa801745b0b0513db5bd9426d0",
      "975df57fd50b453d909e26b0c5a93e4c",
      "6b31bfd15e85429fa049f1c2ad943044",
      "20631d71f76e488b91437addb45c4767"
     ]
    },
    "id": "qNfxJVYUYqNf",
    "executionInfo": {
     "elapsed": 1248,
     "status": "ok",
     "timestamp": 1639134313146,
     "user": {
      "displayName": "김영우",
      "photoUrl": "https://lh3.googleusercontent.com/a/default-user=s64",
      "userId": "08845972583606178261"
     },
     "user_tz": -540
    },
    "outputId": "90d919e8-be70-414a-f45c-3eb9cef5686d",
    "pycharm": {
     "is_executing": true
    }
   },
   "source": [
    "learner=cnn_learner(dls,resnet18,metrics=[accuracy, error_rate])"
   ],
   "execution_count": null,
   "outputs": []
  },
  {
   "cell_type": "code",
   "metadata": {
    "colab": {
     "base_uri": "https://localhost:8080/",
     "height": 672
    },
    "id": "KNVkAR9KYqPp",
    "executionInfo": {
     "elapsed": 3008065,
     "status": "ok",
     "timestamp": 1639137328041,
     "user": {
      "displayName": "김영우",
      "photoUrl": "https://lh3.googleusercontent.com/a/default-user=s64",
      "userId": "08845972583606178261"
     },
     "user_tz": -540
    },
    "outputId": "94787bf7-0058-4591-8d33-723839cdd59d"
   },
   "source": [
    "learner.fine_tune(2, 3e-3, wd=0.5,cbs=[ShowGraphCallback()])"
   ],
   "execution_count": null,
   "outputs": [
    {
     "output_type": "display_data",
     "data": {
      "text/html": [
       "<table border=\"1\" class=\"dataframe\">\n",
       "  <thead>\n",
       "    <tr style=\"text-align: left;\">\n",
       "      <th>epoch</th>\n",
       "      <th>train_loss</th>\n",
       "      <th>valid_loss</th>\n",
       "      <th>accuracy</th>\n",
       "      <th>error_rate</th>\n",
       "      <th>time</th>\n",
       "    </tr>\n",
       "  </thead>\n",
       "  <tbody>\n",
       "    <tr>\n",
       "      <td>0</td>\n",
       "      <td>0.016861</td>\n",
       "      <td>0.005736</td>\n",
       "      <td>0.998465</td>\n",
       "      <td>0.001535</td>\n",
       "      <td>16:17</td>\n",
       "    </tr>\n",
       "  </tbody>\n",
       "</table>"
      ],
      "text/plain": [
       "<IPython.core.display.HTML object>"
      ]
     },
     "metadata": {}
    },
    {
     "output_type": "display_data",
     "data": {
      "image/png": "[encoded data removed]",
      "text/plain": [
       "<Figure size 432x288 with 1 Axes>"
      ]
     },
     "metadata": {}
    },
    {
     "output_type": "display_data",
     "data": {
      "text/html": [
       "<table border=\"1\" class=\"dataframe\">\n",
       "  <thead>\n",
       "    <tr style=\"text-align: left;\">\n",
       "      <th>epoch</th>\n",
       "      <th>train_loss</th>\n",
       "      <th>valid_loss</th>\n",
       "      <th>accuracy</th>\n",
       "      <th>error_rate</th>\n",
       "      <th>time</th>\n",
       "    </tr>\n",
       "  </thead>\n",
       "  <tbody>\n",
       "    <tr>\n",
       "      <td>0</td>\n",
       "      <td>0.011781</td>\n",
       "      <td>0.002743</td>\n",
       "      <td>0.999326</td>\n",
       "      <td>0.000674</td>\n",
       "      <td>16:56</td>\n",
       "    </tr>\n",
       "    <tr>\n",
       "      <td>1</td>\n",
       "      <td>0.002423</td>\n",
       "      <td>0.001274</td>\n",
       "      <td>0.999588</td>\n",
       "      <td>0.000412</td>\n",
       "      <td>16:51</td>\n",
       "    </tr>\n",
       "  </tbody>\n",
       "</table>"
      ],
      "text/plain": [
       "<IPython.core.display.HTML object>"
      ]
     },
     "metadata": {}
    },
    {
     "output_type": "display_data",
     "data": {
      "image/png": "[encoded data removed]",
      "text/plain": [
       "<Figure size 432x288 with 1 Axes>"
      ]
     },
     "metadata": {}
    }
   ]
  },
  {
   "cell_type": "code",
   "metadata": {
    "colab": {
     "base_uri": "https://localhost:8080/",
     "height": 34
    },
    "id": "0euZVUjCYV39",
    "executionInfo": {
     "elapsed": 630,
     "status": "ok",
     "timestamp": 1638288328571,
     "user": {
      "displayName": "김영우",
      "photoUrl": "https://lh3.googleusercontent.com/a/default-user=s64",
      "userId": "08845972583606178261"
     },
     "user_tz": -540
    },
    "outputId": "08dba47b-3cdd-443d-d919-2658f5fd6376",
    "pycharm": {
     "is_executing": true
    }
   },
   "source": [
    "import pickle\n",
    "from google.colab import files\n",
    "learner.export('plant_notplant_resnet18.pkl')\n",
    "files.download('plant_notplant_resnet18.pkl')"
   ],
   "execution_count": null,
   "outputs": []
  },
  {
   "cell_type": "code",
   "metadata": {
    "colab": {
     "background_save": true,
     "base_uri": "https://localhost:8080/",
     "height": 115,
     "output_embedded_package_id": "15tUyq2vBW1AhM1IL-mhXbF5AqgYUrqje"
    },
    "id": "C9w1gIybYVb3",
    "executionInfo": {
     "elapsed": 98655,
     "status": "ok",
     "timestamp": 1638289825038,
     "user": {
      "displayName": "김영우",
      "photoUrl": "https://lh3.googleusercontent.com/a/default-user=s64",
      "userId": "08845972583606178261"
     },
     "user_tz": -540
    },
    "outputId": "f5decf97-da08-4648-bcc5-37106d7f9786",
    "pycharm": {
     "is_executing": true
    }
   },
   "source": [
    "from google.colab import files\n",
    "files.upload()"
   ],
   "execution_count": null,
   "outputs": []
  },
  {
   "cell_type": "code",
   "metadata": {
    "id": "SUQlynhHYVap"
   },
   "source": [
    "from PIL import Image\n",
    "import os\n",
    "\n",
    "img = Image.open('/content/KakaoTalk_20211203_143808682_06.jpg')\n",
    "\n",
    "#os.remove('test.jpg')\n",
    "img_resize = img.resize((256, 256))\n",
    "img_resize.save('test.jpg')"
   ],
   "execution_count": null,
   "outputs": []
  },
  {
   "cell_type": "code",
   "metadata": {
    "colab": {
     "base_uri": "https://localhost:8080/",
     "height": 35
    },
    "id": "-CqcZdGvqMXo",
    "executionInfo": {
     "status": "ok",
     "timestamp": 1638510334812,
     "user_tz": -540,
     "elapsed": 397,
     "user": {
      "displayName": "김영우",
      "photoUrl": "https://lh3.googleusercontent.com/a/default-user=s64",
      "userId": "08845972583606178261"
     }
    },
    "outputId": "b0ec59de-f1c3-4864-ec5c-d50c1dde6204"
   },
   "source": [
    "learn_test = load_learner('/content/gdrive/MyDrive/plant_notplant_resnet18.pkl')\n",
    "learn_test.predict(\"/content/test.jpg\")"
   ],
   "execution_count": null,
   "outputs": [
    {
     "output_type": "display_data",
     "data": {
      "text/html": [
       ""
      ],
      "text/plain": [
       "<IPython.core.display.HTML object>"
      ]
     },
     "metadata": {}
    },
    {
     "output_type": "execute_result",
     "data": {
      "text/plain": [
       "('NotPlant', TensorBase(0), TensorBase([9.9921e-01, 7.8924e-04]))"
      ]
     },
     "metadata": {},
     "execution_count": 35
    }
   ]
  }
 ]
}